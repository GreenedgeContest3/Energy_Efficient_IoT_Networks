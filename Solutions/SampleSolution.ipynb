{
  "nbformat": 4,
  "nbformat_minor": 0,
  "metadata": {
    "colab": {
      "provenance": []
    },
    "kernelspec": {
      "name": "python3",
      "display_name": "Python 3"
    },
    "language_info": {
      "name": "python"
    }
  },
  "cells": [
    {
      "cell_type": "markdown",
      "source": [
        "This is simple solution for the example case, where only 1 source and 1 gateway node was considered."
      ],
      "metadata": {
        "id": "-nyNNI6o2ywP"
      }
    },
    {
      "cell_type": "code",
      "source": [
        "import math\n",
        "\n",
        "# 1st Input line\n",
        "input_line1 = input(\"Enter N, k, m, and |E| separated by space: \")\n",
        "\n",
        "# Split the input line into separate values\n",
        "N, k, m, total_edges = map(int, input_line1.split())\n",
        "\n",
        "\n",
        "# 2nd Input line\n",
        "# Split the input line into separate values\n",
        "S = []\n",
        "D = []\n",
        "for i in range(k):\n",
        "    input_line2 = input(f\"Enter source node {i + 1} ID and requested bandwidth separated by space: \")\n",
        "    source_id, bandwidth = map(int, input_line2.split())\n",
        "    S.append(source_id)\n",
        "    D.append(bandwidth)\n",
        "\n",
        "# 3rd Input line\n",
        "input_line3 = input(\"Enter gateway nodes IDs separated by space: \")\n",
        "G = list(map(int, input_line3.split()))\n",
        "\n",
        "\n",
        "# Take input for each edge\n",
        "edges = []\n",
        "E = []\n",
        "for i in range(total_edges):\n",
        "    edge_input = input(f\"Enter edge {i} information (Edge ID, starting node, ending node, capacity, power) separated by space: \")\n",
        "    edge_info = list(map(int, edge_input.split()))\n",
        "    edges.append(edge_info)\n",
        "\n",
        "E = [sublist[1:] for sublist in edges]\n",
        "# Last input line the constraits floating point numbers representing the coefficients (α, β, δ)\n",
        "input_line4 = input(\"Enter the coefficients (α, β, δ) separated by space: \")\n",
        "coef = list(map(float, input_line4.split()))\n",
        "# Print the values for verification\n",
        "print(\"Number of nodes:\", N)\n",
        "print(\"Number of Sources:\", k)\n",
        "print(\"Number of Gateways:\", m)\n",
        "print(\"Number of Edges:\", total_edges)\n",
        "print(\"Source IDs:\", S)\n",
        "print(\"Bandwidths:\", D)\n",
        "print(\"Gateway IDs: \", G)\n",
        "print(\"Edges information:\")\n",
        "i = 0\n",
        "for edge in edges:\n",
        "    print(f\"Edge ID: {edge[0]}, Start Node ID: {edge[1]}, End Node ID: {edge[2]}, Capacity: {edge[3]}, Power: {edge[4]}\")\n",
        "\n",
        "print(\"α, β, δ Coefficients: \", coef)"
      ],
      "metadata": {
        "colab": {
          "base_uri": "https://localhost:8080/"
        },
        "id": "TBWicMntR0Ui",
        "outputId": "195541b2-7770-4d88-f3cd-145a22dde7db"
      },
      "execution_count": 26,
      "outputs": [
        {
          "output_type": "stream",
          "name": "stdout",
          "text": [
            "Enter N, k, m, and |E| separated by space: 4 1 1 6\n",
            "Enter source node 1 ID and requested bandwidth separated by space: 0 10\n",
            "Enter gateway nodes IDs separated by space: 3\n",
            "Enter edge 0 information (Edge ID, starting node, ending node, capacity, power) separated by space: 0 0 1 10 1\n",
            "Enter edge 1 information (Edge ID, starting node, ending node, capacity, power) separated by space: 1 0 1 5 3\n",
            "Enter edge 2 information (Edge ID, starting node, ending node, capacity, power) separated by space: 2 0 2 15 2\n",
            "Enter edge 3 information (Edge ID, starting node, ending node, capacity, power) separated by space: 3 1 3 10 2\n",
            "Enter edge 4 information (Edge ID, starting node, ending node, capacity, power) separated by space: 4 1 2 20 1\n",
            "Enter edge 5 information (Edge ID, starting node, ending node, capacity, power) separated by space: 5 2 3 10 3\n",
            "Enter the coefficients (α, β, δ) separated by space: 0.33 0.33 0.33\n",
            "Number of nodes: 4\n",
            "Number of Sources: 1\n",
            "Number of Gateways: 1\n",
            "Number of Edges: 6\n",
            "Source IDs: [0]\n",
            "Bandwidths: [10]\n",
            "Gateway IDs:  [3]\n",
            "Edges information:\n",
            "Edge ID: 0, Start Node ID: 0, End Node ID: 1, Capacity: 10, Power: 1\n",
            "Edge ID: 1, Start Node ID: 0, End Node ID: 1, Capacity: 5, Power: 3\n",
            "Edge ID: 2, Start Node ID: 0, End Node ID: 2, Capacity: 15, Power: 2\n",
            "Edge ID: 3, Start Node ID: 1, End Node ID: 3, Capacity: 10, Power: 2\n",
            "Edge ID: 4, Start Node ID: 1, End Node ID: 2, Capacity: 20, Power: 1\n",
            "Edge ID: 5, Start Node ID: 2, End Node ID: 3, Capacity: 10, Power: 3\n",
            "α, β, δ Coefficients:  [0.33, 0.33, 0.33]\n"
          ]
        }
      ]
    },
    {
      "cell_type": "code",
      "source": [
        "def find_alternative_paths(graph, start, end, path=[]):\n",
        "    if start == end:\n",
        "        return [path]\n",
        "    if start not in graph:\n",
        "        return []\n",
        "\n",
        "    paths = []\n",
        "    for edge_id, node in graph[start]:\n",
        "        if edge_id not in path:\n",
        "            new_paths = find_alternative_paths(graph, node, end, path + [edge_id])\n",
        "            paths.extend(new_paths)\n",
        "    return paths\n",
        "\n",
        "edges = []\n",
        "for i, sublist in enumerate(E):\n",
        "    edges.extend([i, sublist[0:2]])\n",
        "def edges_to_graph(edges):\n",
        "    graph = {}\n",
        "    for i in range(0, len(edges), 2):\n",
        "        edge_id, connection = edges[i], edges[i+1]\n",
        "        if connection[0] not in graph:\n",
        "            graph[connection[0]] = []\n",
        "        graph[connection[0]].append((edge_id, connection[1]))\n",
        "    return graph\n",
        "\n",
        "graph = edges_to_graph(edges)\n",
        "source_node = S[0]\n",
        "gateway_node = G[0]\n",
        "paths = find_alternative_paths(graph, source_node, gateway_node)\n",
        "#print(paths)\n",
        "\n",
        "def calculate_data_flow(E, paths, bandwidth):\n",
        "    data = bandwidth\n",
        "    data_flow_results = []\n",
        "    power_consumptions = []\n",
        "    capacities = []\n",
        "    data_flow_min_results = []\n",
        "    network_utils = []\n",
        "    energy_efficiency = []\n",
        "    for path_indexes in paths:\n",
        "        edge_util = 0\n",
        "        data_flow = 0\n",
        "        data_flow_min = 1000\n",
        "        capacity = 0\n",
        "        cap = 0\n",
        "        power_consumption = 0\n",
        "        power_consumption_edge = 0\n",
        "        energy_efficiency_edge = 0\n",
        "        for i in range(len(path_indexes)):\n",
        "            power_consumption_edge = 0\n",
        "            if E[path_indexes[i]][2] >= data:\n",
        "              capacity = E[path_indexes[i]][2]\n",
        "              cap += capacity\n",
        "              power_consumption += E[path_indexes[i]][3]\n",
        "              power_consumption_edge = E[path_indexes[i]][3]\n",
        "              data_flow += data\n",
        "              data_flow_min = min(data_flow_min,E[path_indexes[i]][2])\n",
        "              edge_util += data/capacity\n",
        "              network_util = edge_util\n",
        "              energy_efficiency_edge += ((power_consumption_edge/capacity))\n",
        "            else:\n",
        "              capacity = E[path_indexes[i]][2]\n",
        "              cap += capacity\n",
        "              power_consumption += E[path_indexes[i]][3]\n",
        "              data_flow += 0\n",
        "              data_flow_min = min(data_flow_min,E[path_indexes[i]][2])\n",
        "              power_consumption_edge = E[path_indexes[i]][3]\n",
        "              edge_util += capacity/data\n",
        "              network_util = edge_util #/(len(path_indexes))\n",
        "              energy_efficiency_edge += ((power_consumption_edge/capacity))\n",
        "        data_flow_results.append(data_flow)\n",
        "        data_flow_min_results.append(data_flow_min)\n",
        "        power_consumptions.append(power_consumption)\n",
        "        capacities.append(cap)\n",
        "        network_utils.append(network_util)\n",
        "        energy_efficiency.append(energy_efficiency_edge)\n",
        "    return data_flow_results, power_consumptions, capacities, data_flow_min_results, network_utils, energy_efficiency\n",
        "\n",
        "bandwidth = D[0]\n",
        "data_flow_results, power_consumptions,  capacities, data_flow_min_results, network_utils, energy_efficiency= calculate_data_flow(E, paths, bandwidth)\n",
        "#print(E)\n",
        "#print(data_flow_results, power_consumptions,  capacities, data_flow_min_results, network_utils, energy_efficiency)"
      ],
      "metadata": {
        "id": "fOdcGr7cuWyH",
        "colab": {
          "base_uri": "https://localhost:8080/"
        },
        "outputId": "0dcb090e-ee59-4940-a372-fa1f7366ccad"
      },
      "execution_count": 27,
      "outputs": [
        {
          "output_type": "stream",
          "name": "stdout",
          "text": [
            "[20, 30, 10, 20, 20] [3, 5, 5, 7, 5] [20, 40, 15, 35, 25] [10, 10, 5, 5, 10] [2.0, 2.5, 1.5, 2.0, 1.6666666666666665] [0.30000000000000004, 0.45, 0.8, 0.95, 0.43333333333333335]\n"
          ]
        }
      ]
    },
    {
      "cell_type": "code",
      "source": [
        "\n",
        "# Generate Ds dictionary with example data\n",
        "Ds = {s: {g: D[s-1] for g in G} for s in S}\n",
        "# Network thoughtput, the total data successfully delivered to the gateways\n",
        "T  = sum(Ds[s][g] for s in S for g in G)\n",
        "net_thoughtput = [data_flow_min_results[i]/T for i in range(len(data_flow_min_results))]\n",
        "#print(\"\\nPath throughtput T_norm:\", net_thoughtput)\n",
        "\n",
        "# Energy consumption, the total energy consumption in the network for transmitting data:\n",
        "#energy_consumption = sum([p_val * 1 / c_val * f_val for f_val, p_val, c_val in zip(data_flow_results, power_consumptions, capacities)])\n",
        "#print(\"\\nTotal network energy consumption: \", energy_consumpt\n",
        "# Energy efficiency\n",
        "energy = [data_flow_min_results[k]*energy_efficiency[k] for k in range(len(data_flow_min_results))]\n",
        "eta = [data_flow_min_results[k]/energy[k] for k in range(len(data_flow_min_results))]\n",
        "\n",
        "#n_norm = [(eta[l]-min(eta))/(max(eta) - min(eta)) for l in range(len(eta))]\n",
        "#print(eta)\n",
        "#eta = T/energy_consumption\n",
        "#print(\"\\nTotal network energy efficiency: \", eta)\n",
        "\n",
        "# Overall Network Utilization\n",
        "U = sum(network_utils)\n",
        "print(\"\\nAll possible paths: \", paths)\n",
        "# Global objective function\n",
        "#print(\"\\Energy efficiency: \", eta)\n",
        "#print(\"\\nNetwork thoughput: \", data_flow_min_results)\n",
        "#print(\"\\nNetwork utilization\", network_utils)\n",
        "G_score = [coef[0] * eta[i] + coef[1] *data_flow_min_results[i] + coef[2] * network_utils[i]/total_edges for i in range(len(network_utils))]\n",
        "\n",
        "# Output\n",
        "max_value = max(G_score)\n",
        "max_indexes = [index for index, value in enumerate(G_score) if value == max_value]\n",
        "index_max = G_score.index(max_value)\n",
        "output = [paths[i] for i in max_indexes]\n",
        "\n",
        "print(\"\\nExpected output is: \")\n",
        "expected_output = []\n",
        "for i in range(len(output)+1):\n",
        "    expected_output.append(output[0][i])\n",
        "\n",
        "expected_output.append(data_flow_min_results[index_max])\n",
        "\n",
        "print(*expected_output)\n",
        "print(\"The optimum path with Edge IDs is: \", *output[0])\n",
        "print(\"The path data flow is: \", data_flow_min_results[index_max])\n"
      ],
      "metadata": {
        "colab": {
          "base_uri": "https://localhost:8080/"
        },
        "id": "USv-lAevOgvZ",
        "outputId": "ed24ce93-14c1-4ea9-c3b7-fe53134470c9"
      },
      "execution_count": 28,
      "outputs": [
        {
          "output_type": "stream",
          "name": "stdout",
          "text": [
            "\n",
            "All possible paths:  [[0, 3], [0, 4, 5], [1, 3], [1, 4, 5], [2, 5]]\n",
            "\\Energy efficiency:  [3.333333333333333, 2.2222222222222223, 1.25, 1.0526315789473684, 2.3076923076923075]\n",
            "\n",
            "Network thoughput:  [10, 10, 5, 5, 10]\n",
            "\n",
            "Network utilization [2.0, 2.5, 1.5, 2.0, 1.6666666666666665]\n",
            "\n",
            "Expected output is: \n",
            "0 3 10\n",
            "The optimum path with Edge IDs is:  0 3\n",
            "The path data flow is:  10\n"
          ]
        }
      ]
    }
  ]
}